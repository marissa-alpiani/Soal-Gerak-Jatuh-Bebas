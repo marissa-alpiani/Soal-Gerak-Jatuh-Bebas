{
 "cells": [
  {
   "cell_type": "markdown",
   "metadata": {},
   "source": [
    "### Soal\n",
    "Sebuah benda dijatuhkan dari puncak menara tanpa kecepatan awal. Selama 5 detik benda tersebut mencapai tanah. Jika percepatan gravitasi g=10 $m/s^2$, maka tinggi menara adalah...."
   ]
  },
  {
   "cell_type": "markdown",
   "metadata": {},
   "source": [
    "### Jawab\n",
    "$ h = \\frac{1}{2} \\times g \\times t^2 $\n",
    "\n",
    "$ h = \\frac{1}{2} \\times 10 m/s^2 \\times (5 m)^2 $\n",
    "\n",
    "$ h = 125 m $"
   ]
  },
  {
   "cell_type": "code",
   "execution_count": 4,
   "metadata": {},
   "outputs": [
    {
     "name": "stdout",
     "output_type": "stream",
     "text": [
      "Jarak yang ditempuh: 125.0 meter\n"
     ]
    }
   ],
   "source": [
    "# Nilai yang Diberikan untuk Gerak Jatuh Bebas\n",
    "g = 10  # percepatan gravitasi bumi dalam m/s^2\n",
    "t = 5  # waktu dalam detik\n",
    "\n",
    "# Menghitung jarak yang ditempuh menggunakan rumus: d = (1/2)gt^2\n",
    "h = 0.5 * g * t**2\n",
    "\n",
    "# Menampilkan jarak yang ditempuh\n",
    "print(f\"Jarak yang ditempuh: {h} meter\")\n",
    "\n"
   ]
  }
 ],
 "metadata": {
  "kernelspec": {
   "display_name": "Python 3",
   "language": "python",
   "name": "python3"
  },
  "language_info": {
   "codemirror_mode": {
    "name": "ipython",
    "version": 3
   },
   "file_extension": ".py",
   "mimetype": "text/x-python",
   "name": "python",
   "nbconvert_exporter": "python",
   "pygments_lexer": "ipython3",
   "version": "3.11.4"
  }
 },
 "nbformat": 4,
 "nbformat_minor": 2
}
